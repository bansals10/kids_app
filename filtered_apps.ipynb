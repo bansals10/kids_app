{
 "cells": [
  {
   "cell_type": "code",
   "execution_count": 4,
   "metadata": {},
   "outputs": [
    {
     "name": "stdout",
     "output_type": "stream",
     "text": [
      "Kids: 208\n",
      "'Others' kids: 42\n",
      "subjects: 22\n",
      "'Others' Subjects: 228\n",
      "Filtered (contain both subject and kid): 13\n"
     ]
    },
    {
     "data": {
      "image/png": "[encoded data removed]",
      "text/plain": [
       "<Figure size 432x288 with 1 Axes>"
      ]
     },
     "metadata": {
      "needs_background": "light"
     },
     "output_type": "display_data"
    }
   ],
   "source": [
    "import json\n",
    "import itertools \n",
    "import pprint\n",
    "import matplotlib.pyplot as plt\n",
    "import numpy as np\n",
    "import pandas as pd\n",
    "\n",
    "pp = pprint.PrettyPrinter(indent=4)\n",
    "\n",
    "kid_arr = [\"kid\", \"kids\", \"child\", \"children\", \"student\", \"students\"]\n",
    "subject_arr = [\"security\", \"privacy\", \"online safety\", \"secure\", \"private\", \"cybersecurity\", \"computer security\"] # check for cyber security??\n",
    "\n",
    "\n",
    "def filter_terms(terms):\n",
    "\tkids_apps_dict = {}\n",
    "\tkids_other_apps_dict = {}\n",
    "\tsubject_apps_dict = {}\n",
    "\tsubject_other_apps_dict = {}\n",
    "\tkids_count = 0\n",
    "\tother_kids_count = 0\n",
    "\tsubject_count = 0\n",
    "\tother_subject_count = 0\n",
    "\n",
    "\n",
    "\t# iterate over textrank outputs for all apps\n",
    "\tfor i in range(0, len(terms)):\n",
    "\t\tappId = terms[i]['app_id']\n",
    "\t\ttitle = terms[i]['title']\n",
    "\t\tdel terms[i]['app_id']\n",
    "\t\tdel terms[i]['title']\n",
    "\n",
    "\t\tout = dict(itertools.islice(terms[i].items(), 10)) # get the top 10 TextRank vectors\n",
    "\n",
    "\t\tterms[i]['app_id'] = appId\n",
    "\t\tterms[i]['title'] = title\n",
    "\t\tout['app_id'] = appId\n",
    "\t\tout['title'] = title\n",
    "\n",
    "\t\t# filter by kids\n",
    "\t\tfor kid in kid_arr:\n",
    "\t\t\t# check if term from kid_arr is in the top10 TR vectors for a given app and has not already been recorded\n",
    "\t\t\tif((kid in out) and (out['app_id'] not in kids_apps_dict)):\n",
    "\t\t\t\tkids_apps_dict[out['app_id']] = out\n",
    "\t\t\t\t#kids_count += 1\n",
    "\n",
    "\t\t# filter by subject\n",
    "\t\tfor subject in subject_arr:\n",
    "\t\t\t# check if term from subject_arr is in the top10 TR vectors for a given app and has not already been recorded\n",
    "\t\t\tif((subject in out) and (out['app_id'] not in subject_apps_dict)):\n",
    "\t\t\t\tsubject_apps_dict[out['app_id']] = out\n",
    "\t\t\t\t# subject_count += 1\n",
    "\n",
    "\tfor i in range(0, len(terms)): \n",
    "\t\tif terms[i]['app_id'] not in kids_apps_dict:\n",
    "\t\t\tkids_other_apps_dict[terms[i]['app_id']] = terms[i]\n",
    "\t\t\tother_kids_count += 1\n",
    "\t\telse:\n",
    "\t\t\tkids_count += 1\n",
    "\n",
    "\t\tif terms[i]['app_id'] not in subject_apps_dict:\n",
    "\t\t\tsubject_other_apps_dict[terms[i]['app_id']] = terms[i]\n",
    "\t\t\tother_subject_count += 1\n",
    "\t\telse:\n",
    "\t\t\tsubject_count += 1\n",
    "\n",
    "\tfiltered_list = []\n",
    "\tfor app in kids_apps_dict:\n",
    "\t\tif app in subject_apps_dict:\n",
    "\t\t\tfiltered_list.append(kids_apps_dict[app])\n",
    "\n",
    "\tprint(\"Kids: \" + str(kids_count))\n",
    "\tprint(\"'Others' kids: \" + str(other_kids_count))\n",
    "\tprint(\"subjects: \" + str(subject_count))\n",
    "\tprint(\"'Others' Subjects: \" + str(other_subject_count))\n",
    "\tprint(\"Filtered (contain both subject and kid): \" + str(len(filtered_list)))\n",
    "\n",
    "\t# initialize list of lists \n",
    "\tdata = [['Kids', kids_count], ['Other (Kids)', other_kids_count], ['Subjects', subject_count], ['Other (Subjects)', other_subject_count],\n",
    "           ['Filtered', len(filtered_list)], ['Other (Filtered)', (250-len(filtered_list))]] \n",
    "\t  \n",
    "\t# Create the pandas DataFrame \n",
    "\tdf = pd.DataFrame(data, columns = ['Filter', 'Count']) \n",
    "\t  \n",
    "\n",
    "\t# df = pd.DataFrame(data)\n",
    "\tdf.plot(kind='bar',x='Filter',y='Count', title='Teach Kids About Privacy')\n",
    "\n",
    "# get list of terms from TextRank and then calculate IDF for each term\n",
    "# read the entire file into a python array\n",
    "with open('teach_kids_about_privacy_textrank.json', \"r\") as read_file:\n",
    "    terms = json.load(read_file)\n",
    "    # print(terms)\n",
    "    filter_terms(terms)"
   ]
  },
  {
   "cell_type": "code",
   "execution_count": null,
   "metadata": {},
   "outputs": [],
   "source": []
  }
 ],
 "metadata": {
  "kernelspec": {
   "display_name": "Python 3",
   "language": "python",
   "name": "python3"
  },
  "language_info": {
   "codemirror_mode": {
    "name": "ipython",
    "version": 3
   },
   "file_extension": ".py",
   "mimetype": "text/x-python",
   "name": "python",
   "nbconvert_exporter": "python",
   "pygments_lexer": "ipython3",
   "version": "3.7.1"
  }
 },
 "nbformat": 4,
 "nbformat_minor": 2
}
